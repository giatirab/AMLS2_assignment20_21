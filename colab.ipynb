{
  "nbformat": 4,
  "nbformat_minor": 0,
  "metadata": {
    "colab": {
      "name": "colab.ipynb",
      "provenance": [],
      "collapsed_sections": []
    },
    "kernelspec": {
      "name": "python3",
      "display_name": "Python 3"
    },
    "language_info": {
      "name": "python"
    },
    "accelerator": "GPU"
  },
  "cells": [
    {
      "cell_type": "code",
      "metadata": {
        "colab": {
          "base_uri": "https://localhost:8080/"
        },
        "id": "IpadS-lmMGHz",
        "outputId": "9b2c87a1-4f92-42a9-c98c-37a673c32788"
      },
      "source": [
        "!pip install ipdb\n",
        "!pip install --upgrade torchtext\n",
        "# This is a public repo\n",
        "!git clone https://github.com/giatirab/AMLS2_assignment20_21.git\n",
        "import os"
      ],
      "execution_count": null,
      "outputs": [
        {
          "output_type": "stream",
          "text": [
            "Requirement already satisfied: ipdb in /usr/local/lib/python3.7/dist-packages (0.13.7)\n",
            "Requirement already satisfied: toml>=0.10.2; python_version > \"3.6\" in /usr/local/lib/python3.7/dist-packages (from ipdb) (0.10.2)\n",
            "Requirement already satisfied: ipython>=7.17.0; python_version > \"3.6\" in /usr/local/lib/python3.7/dist-packages (from ipdb) (7.22.0)\n",
            "Requirement already satisfied: setuptools in /usr/local/lib/python3.7/dist-packages (from ipdb) (54.2.0)\n",
            "Requirement already satisfied: pickleshare in /usr/local/lib/python3.7/dist-packages (from ipython>=7.17.0; python_version > \"3.6\"->ipdb) (0.7.5)\n",
            "Requirement already satisfied: jedi>=0.16 in /usr/local/lib/python3.7/dist-packages (from ipython>=7.17.0; python_version > \"3.6\"->ipdb) (0.18.0)\n",
            "Requirement already satisfied: pexpect>4.3; sys_platform != \"win32\" in /usr/local/lib/python3.7/dist-packages (from ipython>=7.17.0; python_version > \"3.6\"->ipdb) (4.8.0)\n",
            "Requirement already satisfied: pygments in /usr/local/lib/python3.7/dist-packages (from ipython>=7.17.0; python_version > \"3.6\"->ipdb) (2.6.1)\n",
            "Requirement already satisfied: prompt-toolkit!=3.0.0,!=3.0.1,<3.1.0,>=2.0.0 in /usr/local/lib/python3.7/dist-packages (from ipython>=7.17.0; python_version > \"3.6\"->ipdb) (3.0.18)\n",
            "Requirement already satisfied: backcall in /usr/local/lib/python3.7/dist-packages (from ipython>=7.17.0; python_version > \"3.6\"->ipdb) (0.2.0)\n",
            "Requirement already satisfied: traitlets>=4.2 in /usr/local/lib/python3.7/dist-packages (from ipython>=7.17.0; python_version > \"3.6\"->ipdb) (5.0.5)\n",
            "Requirement already satisfied: decorator in /usr/local/lib/python3.7/dist-packages (from ipython>=7.17.0; python_version > \"3.6\"->ipdb) (4.4.2)\n",
            "Requirement already satisfied: parso<0.9.0,>=0.8.0 in /usr/local/lib/python3.7/dist-packages (from jedi>=0.16->ipython>=7.17.0; python_version > \"3.6\"->ipdb) (0.8.2)\n",
            "Requirement already satisfied: ptyprocess>=0.5 in /usr/local/lib/python3.7/dist-packages (from pexpect>4.3; sys_platform != \"win32\"->ipython>=7.17.0; python_version > \"3.6\"->ipdb) (0.7.0)\n",
            "Requirement already satisfied: wcwidth in /usr/local/lib/python3.7/dist-packages (from prompt-toolkit!=3.0.0,!=3.0.1,<3.1.0,>=2.0.0->ipython>=7.17.0; python_version > \"3.6\"->ipdb) (0.2.5)\n",
            "Requirement already satisfied: ipython-genutils in /usr/local/lib/python3.7/dist-packages (from traitlets>=4.2->ipython>=7.17.0; python_version > \"3.6\"->ipdb) (0.2.0)\n",
            "Requirement already up-to-date: torchtext in /usr/local/lib/python3.7/dist-packages (0.9.1)\n",
            "Requirement already satisfied, skipping upgrade: tqdm in /usr/local/lib/python3.7/dist-packages (from torchtext) (4.41.1)\n",
            "Requirement already satisfied, skipping upgrade: torch==1.8.1 in /usr/local/lib/python3.7/dist-packages (from torchtext) (1.8.1+cu101)\n",
            "Requirement already satisfied, skipping upgrade: requests in /usr/local/lib/python3.7/dist-packages (from torchtext) (2.23.0)\n",
            "Requirement already satisfied, skipping upgrade: numpy in /usr/local/lib/python3.7/dist-packages (from torchtext) (1.19.5)\n",
            "Requirement already satisfied, skipping upgrade: typing-extensions in /usr/local/lib/python3.7/dist-packages (from torch==1.8.1->torchtext) (3.7.4.3)\n",
            "Requirement already satisfied, skipping upgrade: urllib3!=1.25.0,!=1.25.1,<1.26,>=1.21.1 in /usr/local/lib/python3.7/dist-packages (from requests->torchtext) (1.24.3)\n",
            "Requirement already satisfied, skipping upgrade: idna<3,>=2.5 in /usr/local/lib/python3.7/dist-packages (from requests->torchtext) (2.10)\n",
            "Requirement already satisfied, skipping upgrade: chardet<4,>=3.0.2 in /usr/local/lib/python3.7/dist-packages (from requests->torchtext) (3.0.4)\n",
            "Requirement already satisfied, skipping upgrade: certifi>=2017.4.17 in /usr/local/lib/python3.7/dist-packages (from requests->torchtext) (2020.12.5)\n",
            "Cloning into 'AMLS2_assignment20_21'...\n",
            "remote: Enumerating objects: 62, done.\u001b[K\n",
            "remote: Counting objects: 100% (3/3), done.\u001b[K\n",
            "remote: Compressing objects: 100% (3/3), done.\u001b[K\n",
            "remote: Total 62 (delta 0), reused 1 (delta 0), pack-reused 59\u001b[K\n",
            "Unpacking objects: 100% (62/62), done.\n"
          ],
          "name": "stdout"
        }
      ]
    },
    {
      "cell_type": "code",
      "metadata": {
        "id": "iPVzbZqyNxMT"
      },
      "source": [
        "project = \"AMLS2_assignment20_21\"\n",
        "os.chdir(project)"
      ],
      "execution_count": null,
      "outputs": []
    },
    {
      "cell_type": "code",
      "metadata": {
        "colab": {
          "base_uri": "https://localhost:8080/"
        },
        "id": "1IECQngCSnrw",
        "outputId": "38201125-33f0-48e6-f911-e28b50f4b706"
      },
      "source": [
        "# check if GPU is active\n",
        "import tensorflow as tf\n",
        "device_name = tf.test.gpu_device_name()\n",
        "if device_name != '/device:GPU:0':\n",
        "  raise SystemError('GPU device not found')\n",
        "print('Found GPU at: {}'.format(device_name))"
      ],
      "execution_count": 2,
      "outputs": [
        {
          "output_type": "stream",
          "text": [
            "Found GPU at: /device:GPU:0\n"
          ],
          "name": "stdout"
        }
      ]
    },
    {
      "cell_type": "code",
      "metadata": {
        "colab": {
          "base_uri": "https://localhost:8080/"
        },
        "id": "iBiTN0BnM06H",
        "outputId": "57c67dcd-d4b8-4ee8-d895-62c4e97315ac"
      },
      "source": [
        "!python main.py"
      ],
      "execution_count": null,
      "outputs": [
        {
          "output_type": "stream",
          "text": [
            "{\n",
            "    \"batch_size\": 20,\n",
            "    \"block_dropout\": 0.2,\n",
            "    \"depth\": 3,\n",
            "    \"embedding_dim\": 128,\n",
            "    \"epochs\": 8,\n",
            "    \"gradient_clipping\": 1.0,\n",
            "    \"heads\": 3,\n",
            "    \"log_step\": 80000,\n",
            "    \"lr\": 0.0001,\n",
            "    \"lr_warmup\": 10,\n",
            "    \"max_tweet_len\": 119,\n",
            "    \"model_name\": \"\",\n",
            "    \"output_dropout\": 0.1,\n",
            "    \"test_batch_size\": 1000\n",
            "}\n",
            "2021-04-17 14:27:05.197537: I tensorflow/stream_executor/platform/default/dso_loader.cc:49] Successfully opened dynamic library libcudart.so.11.0\n",
            "Num labels: 2\n",
            "Vocab size: 19982\n",
            "Loaded pretrained model: models/ca8538c49a089d19f6d40cc6178f1e0c\n",
            "\n",
            "thought sleeping in was an option tomorrow but realizing that it now is not. evaluations in the morning and work in the afternoon!\n",
            "Unknown words: ['evaluations']\n",
            "Confidence: 92.1%\n",
            "negative \n",
            "\n",
            "I hate everything and the world sucks\n",
            "Confidence: 99.3%\n",
            "negative \n",
            "\n",
            "I love you and the world is beautiful\n",
            "Confidence: 98.2%\n",
            "positive \n",
            "\n",
            "I fell in love with you\n",
            "Confidence: 90.5%\n",
            "negative \n",
            "\n",
            "Do you want to merry me?\n",
            "Confidence: 56.5%\n",
            "positive \n",
            "\n",
            "I'll kick your ass\n",
            "Confidence: 98.1%\n",
            "positive \n",
            "\n",
            "This water is tasty\n",
            "Confidence: 97.5%\n",
            "positive \n",
            "\n",
            "This food is amazing\n",
            "Confidence: 98.0%\n",
            "positive \n",
            "\n",
            "When I'm with you I feel like I'm complete.\n",
            "Confidence: 53.4%\n",
            "positive \n",
            "\n",
            "Studying all day makes me deeply satisfied\n",
            "Confidence: 94.7%\n",
            "negative \n",
            "\n",
            "I can't stand you any more, we better not see each others again.\n",
            "Confidence: 79.3%\n",
            "negative \n",
            "\n",
            "I think I like you\n",
            "Confidence: 96.4%\n",
            "positive \n",
            "\n"
          ],
          "name": "stdout"
        }
      ]
    }
  ]
}